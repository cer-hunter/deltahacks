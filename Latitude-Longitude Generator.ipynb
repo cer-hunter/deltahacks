{
 "cells": [
  {
   "cell_type": "code",
   "execution_count": 1,
   "metadata": {},
   "outputs": [
    {
     "name": "stdout",
     "output_type": "stream",
     "text": [
      "43.2606\n",
      "-79.9161\n"
     ]
    }
   ],
   "source": [
    "#this is a project from DeltaHacks V (2019)\n",
    "import subprocess\n",
    "import requests\n",
    "\n",
    "\n",
    "subprocess.call(\"nslookup myip.opendns.com. resolver1.opendns.com > network_info.txt\", shell=True) #finds the IP address of the device and places the info in a .txt file \n",
    "\n",
    "with open(\"network_info.txt\", \"r\") as ipfile: #extracts IP address from data output recieved from website\n",
    "    lines = []\n",
    "    for line in ipfile:\n",
    "        lines.append(line)\n",
    "    address = lines[4]\n",
    "    x = len(address)\n",
    "    ip = ''\n",
    "    for i in range(x):\n",
    "        if i>9:\n",
    "            ip = ip + address[i]  \n",
    "lat_lon = requests.get('https://api.hackertarget.com/geoip/?q=%s'%ip) #retrieves latitude and longitude from IP address\n",
    "xgps_list = list(lat_lon) #convert data type to list \n",
    "sgps_list = str(xgps_list[0]) #convert list to string\n",
    "gps_list = sgps_list.split(\":\")\n",
    "\n",
    "latl = len(gps_list[5])  #processes and extracts latitude and longitude info from data recieved from website\n",
    "lat = ''\n",
    "for i in range(latl):\n",
    "        if gps_list[5][i] != ' ':\n",
    "            if gps_list[5][i] == '\\\\':\n",
    "                break\n",
    "            else: \n",
    "                lat = lat + gps_list[5][i]\n",
    "lonl = len(gps_list[6])\n",
    "lon = ''\n",
    "for i in range(lonl):\n",
    "        if gps_list[6][i] != ' ' and gps_list[6][i] != '\\'':\n",
    "            lon = lon + gps_list[6][i]\n",
    "            \n",
    "print(lat) #prints the longitude and latitude to be used to look-up location\n",
    "print(lon)"
   ]
  },
  {
   "cell_type": "code",
   "execution_count": null,
   "metadata": {
    "collapsed": true
   },
   "outputs": [],
   "source": []
  },
  {
   "cell_type": "code",
   "execution_count": null,
   "metadata": {
    "collapsed": true
   },
   "outputs": [],
   "source": []
  }
 ],
 "metadata": {
  "kernelspec": {
   "display_name": "Python 3",
   "language": "python",
   "name": "python3"
  },
  "language_info": {
   "codemirror_mode": {
    "name": "ipython",
    "version": 3
   },
   "file_extension": ".py",
   "mimetype": "text/x-python",
   "name": "python",
   "nbconvert_exporter": "python",
   "pygments_lexer": "ipython3",
   "version": "3.6.1"
  }
 },
 "nbformat": 4,
 "nbformat_minor": 2
}
